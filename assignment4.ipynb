{
 "cells": [
  {
   "cell_type": "code",
   "execution_count": 12,
   "id": "ca7b1e9e-959a-4f13-8dfd-e305e2a2bd1c",
   "metadata": {},
   "outputs": [
    {
     "name": "stdout",
     "output_type": "stream",
     "text": [
      "[1, 3, 5, 7, 9, 11, 13, 15, 17, 19, 21, 23]\n"
     ]
    }
   ],
   "source": [
    "#ans:1=\n",
    "#def keyword are used to define function.\n",
    "l=[]\n",
    "def test1():\n",
    "    for i in range(1,25):\n",
    "        if i%2==0:\n",
    "            pass\n",
    "        else:\n",
    "            l.append(i)\n",
    "test1()\n",
    "print(l)\n",
    "  "
   ]
  },
  {
   "cell_type": "code",
   "execution_count": 10,
   "id": "e53e4566-239c-423a-89a4-b3d16f6ad81e",
   "metadata": {},
   "outputs": [],
   "source": [
    "#ans:2=\n",
    "*args are used to take sevral input from user in argument in tuple.\n",
    "**kwargs are used to take sevral inpput from user in dictionary \n",
    "We use *args and **kwargs as an argument when we are unsure about the number of arguments to pass in the functions.\n",
    "\n",
    "def adder(*num):\n",
    "    sum = 0\n",
    "    \n",
    "    for n in num:\n",
    "        sum = sum + n\n",
    "\n",
    "    print(\"Sum:\",sum)\n",
    "\n",
    "adder(3,5)\n",
    "adder(4,5,6,7)\n",
    "adder(1,2,3,5,6)\n",
    "\n",
    "def intro(**data):\n",
    "    print(\"\\nData type of argument:\",type(data))\n",
    "\n",
    "    for key, value in data.items():\n",
    "        print(\"{} is {}\".format(key,value))\n",
    "\n",
    "intro(Firstname=\"Sita\", Lastname=\"Sharma\", Age=22, Phone=1234567890)\n",
    "intro(Firstname=\"John\", Lastname=\"Wood\", Email=\"johnwood@nomail.com\", Country=\"Wakanda\", Age=25, Phone=9876543210)"
   ]
  },
  {
   "cell_type": "code",
   "execution_count": 11,
   "id": "c1aa3c12-a3e4-4d1e-8576-d9f5ea79f07c",
   "metadata": {},
   "outputs": [
    {
     "data": {
      "text/plain": [
       "[1, 3, 5, 7, 9, 11, 13, 15, 17, 19, 21, 23]"
      ]
     },
     "execution_count": 11,
     "metadata": {},
     "output_type": "execute_result"
    }
   ],
   "source": [
    "#ans:3=\n",
    "iterator:Iterators are methods that iterate collections like lists, tuples, etc. Using an iterator method, we can loop through an object and return its elements. \n",
    "Technically, a Python iterator object must implement two special methods, __iter__() and __next__(), collectively called the iterator protocol.\n",
    "l=[2,4,6,8,10,12,14,16,18,20]\n",
    "a=iter(l)\n",
    "print(next(a))\n",
    "print(next(a))\n",
    "print(next(a))\n",
    "print(next(a))\n",
    "print(next(a))\n",
    "        "
   ]
  },
  {
   "cell_type": "code",
   "execution_count": null,
   "id": "6010d722-3b3e-418d-bd47-1fd2e530274f",
   "metadata": {},
   "outputs": [],
   "source": [
    "#ans:4=\n",
    "In Python, a generator is a function that returns an iterator that produces a sequence of values when iterated over. Generators are useful when we want to produce a large sequence of values, but we don't want to store all of them in memory at once.\n",
    "Here, the yield keyword is used to produce a value from the generator.\n",
    "\n",
    "\n",
    "def my_generator(n):\n",
    "    value = 0\n",
    "    while value <n:\n",
    "        yield value\n",
    "        value += 1\n",
    "for value in my_generator(3):\n",
    "    print(value)"
   ]
  },
  {
   "cell_type": "code",
   "execution_count": null,
   "id": "34803d7d-e0d6-4761-a3fb-7a1bef3e1ae2",
   "metadata": {},
   "outputs": [],
   "source": [
    "#ans:5=\n",
    "def is_prime(n):\n",
    "    if n < 2:\n",
    "        return False\n",
    "    for i in range(2, int(n**0.5)+1):\n",
    "        if n % i == 0:\n",
    "            return False\n",
    "    return True\n",
    "\n",
    "def generate_primes():\n",
    "    n = 2\n",
    "    while n < 1000:\n",
    "        if is_prime(n):\n",
    "            yield n\n",
    "        n += 1\n",
    "prime_generator = generate_primes()\n",
    "for i in range(20):\n",
    "    print(next(prime_generator))\n",
    "\n",
    "            "
   ]
  },
  {
   "cell_type": "code",
   "execution_count": null,
   "id": "ba90160a-5b5e-4c59-a07a-555f11c40cf9",
   "metadata": {},
   "outputs": [],
   "source": [
    "#ans:6=\n",
    "a,b=0,1\n",
    "count=0\n",
    "while(count<10):\n",
    "    print(a)\n",
    "    c=a+b\n",
    "    a=b\n",
    "    b=c\n",
    "    count=count+1"
   ]
  },
  {
   "cell_type": "code",
   "execution_count": null,
   "id": "bdf62cce-9f4b-4bee-8720-1e4a41ee0dee",
   "metadata": {},
   "outputs": [],
   "source": [
    "#ans:7=\n",
    "string = 'pwsills'\n",
    "char_list = [char for char in string]\n",
    "print(char_list)\n"
   ]
  },
  {
   "cell_type": "code",
   "execution_count": null,
   "id": "4cc844d2-3e38-485e-980e-63c198296d6f",
   "metadata": {},
   "outputs": [],
   "source": [
    "#ans:8=\n",
    "a=int(input(\"enter the number:\"))\n",
    "ans=0\n",
    "temp=a\n",
    "while(a>0):\n",
    "    count=a%10\n",
    "    ans+=count\n",
    "    a=a//10\n",
    "a=temp\n",
    "if a==ans:\n",
    "    print(\"palindrome number\")\n",
    "else:\n",
    "    print(\"not a palindrome number\")"
   ]
  },
  {
   "cell_type": "code",
   "execution_count": null,
   "id": "7be0385a-0717-4eef-87b9-1b38386a0eae",
   "metadata": {},
   "outputs": [],
   "source": [
    "#ans:9=\n",
    "a=[i for i in range(1,100) if i%2!=0]\n",
    "a"
   ]
  }
 ],
 "metadata": {
  "kernelspec": {
   "display_name": "Python 3 (ipykernel)",
   "language": "python",
   "name": "python3"
  },
  "language_info": {
   "codemirror_mode": {
    "name": "ipython",
    "version": 3
   },
   "file_extension": ".py",
   "mimetype": "text/x-python",
   "name": "python",
   "nbconvert_exporter": "python",
   "pygments_lexer": "ipython3",
   "version": "3.10.8"
  }
 },
 "nbformat": 4,
 "nbformat_minor": 5
}
